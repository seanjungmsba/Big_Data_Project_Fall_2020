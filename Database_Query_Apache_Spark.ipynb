{
 "cells": [
  {
   "cell_type": "code",
   "execution_count": 1,
   "metadata": {},
   "outputs": [
    {
     "name": "stdout",
     "output_type": "stream",
     "text": [
      "Starting Spark application\n"
     ]
    },
    {
     "data": {
      "text/html": [
       "<table>\n",
       "<tr><th>ID</th><th>YARN Application ID</th><th>Kind</th><th>State</th><th>Spark UI</th><th>Driver log</th><th>Current session?</th></tr><tr><td>0</td><td>application_1605985399375_0001</td><td>pyspark</td><td>idle</td><td><a target=\"_blank\" href=\"http://ip-172-31-37-95.ec2.internal:20888/proxy/application_1605985399375_0001/\">Link</a></td><td><a target=\"_blank\" href=\"http://ip-172-31-32-36.ec2.internal:8042/node/containerlogs/container_1605985399375_0001_01_000001/livy\">Link</a></td><td>✔</td></tr></table>"
      ],
      "text/plain": [
       "<IPython.core.display.HTML object>"
      ]
     },
     "metadata": {},
     "output_type": "display_data"
    },
    {
     "data": {
      "application/vnd.jupyter.widget-view+json": {
       "model_id": "",
       "version_major": 2,
       "version_minor": 0
      },
      "text/plain": [
       "FloatProgress(value=0.0, bar_style='info', description='Progress:', layout=Layout(height='25px', width='50%'),…"
      ]
     },
     "metadata": {},
     "output_type": "display_data"
    },
    {
     "name": "stdout",
     "output_type": "stream",
     "text": [
      "SparkSession available as 'spark'.\n"
     ]
    },
    {
     "data": {
      "application/vnd.jupyter.widget-view+json": {
       "model_id": "",
       "version_major": 2,
       "version_minor": 0
      },
      "text/plain": [
       "FloatProgress(value=0.0, bar_style='info', description='Progress:', layout=Layout(height='25px', width='50%'),…"
      ]
     },
     "metadata": {},
     "output_type": "display_data"
    }
   ],
   "source": [
    "from pyspark.sql.types import StructField, StructType, StringType, LongType, FloatType, DateType, TimestampType, IntegerType\n",
    "from pyspark.sql import functions as F\n",
    "from pyspark.sql.window import Window\n",
    "from pyspark.sql import Row\n",
    "from pyspark.sql.functions import *\n",
    "from pyspark.sql.types import *\n",
    "\n",
    "import pyspark\n",
    "from pyspark import SparkConf\n",
    "from pyspark import SparkContext\n",
    "from pyspark.sql import SQLContext\n",
    "\n",
    "import matplotlib\n",
    "import matplotlib.pyplot as plt\n",
    "\n",
    "import atexit\n",
    "from numpy import array\n",
    "import numpy as np\n",
    "import datetime"
   ]
  },
  {
   "cell_type": "markdown",
   "metadata": {},
   "source": [
    "# 1. Dataset Set up"
   ]
  },
  {
   "cell_type": "markdown",
   "metadata": {},
   "source": [
    "## 1.1 Import dataset"
   ]
  },
  {
   "cell_type": "code",
   "execution_count": 2,
   "metadata": {},
   "outputs": [
    {
     "data": {
      "application/vnd.jupyter.widget-view+json": {
       "model_id": "",
       "version_major": 2,
       "version_minor": 0
      },
      "text/plain": [
       "FloatProgress(value=0.0, bar_style='info', description='Progress:', layout=Layout(height='25px', width='50%'),…"
      ]
     },
     "metadata": {},
     "output_type": "display_data"
    }
   ],
   "source": [
    "manualSchema = StructType([\n",
    "    StructField('machine_id', LongType(), True),\n",
    "    StructField('site_session_id', LongType(), True),\n",
    "    StructField('prod_category_id', LongType(), True),\n",
    "    StructField('prod_name', StringType(), True),\n",
    "    StructField('domain_id', LongType(),True),\n",
    "    StructField('prod_qty', LongType(), True),\n",
    "    StructField('prod_totprice', FloatType(), True),\n",
    "    StructField('basket_tot', LongType(), True),\n",
    "    StructField('event_date', DateType(), True),\n",
    "    StructField('event_time', TimestampType(), True),\n",
    "    StructField('hoh_most_education', LongType(), True),\n",
    "    StructField('census_region', LongType(), True),\n",
    "    StructField('household_size', LongType(), True),\n",
    "    StructField('hoh_oldest_age', LongType(), True),\n",
    "    StructField('household_income', LongType(), True),\n",
    "    StructField('children', LongType(), True),\n",
    "    StructField('racial_background', LongType(), True),\n",
    "    StructField('connection_speed', LongType(), True),\n",
    "    StructField('country_of_origin', LongType(), True),\n",
    "    StructField('zip_code', LongType(), True),\n",
    "    StructField('domain_name', StringType(), True)\n",
    "])\n",
    "\n",
    "#transaction = spark.read.format('csv').schema(manualSchema).load(\"s3://jiayan-bigdata/Final Project/transaction 2019.csv\")\n",
    "transaction = spark.read.option(\"inferSchema\", \"true\").option(\"header\", \"true\").csv(\"s3://aws-logs-281175518142-us-east-1/Final_Project/transaction 2019.csv\")\n",
    "category = spark.read.option(\"inferSchema\", \"true\").option(\"header\",\"true\").csv(\"s3://aws-logs-281175518142-us-east-1/Final_Project/Product_Categories.csv\")"
   ]
  },
  {
   "cell_type": "markdown",
   "metadata": {},
   "source": [
    "## 1.2 Take a look at their schema"
   ]
  },
  {
   "cell_type": "code",
   "execution_count": 3,
   "metadata": {},
   "outputs": [
    {
     "data": {
      "application/vnd.jupyter.widget-view+json": {
       "model_id": "",
       "version_major": 2,
       "version_minor": 0
      },
      "text/plain": [
       "FloatProgress(value=0.0, bar_style='info', description='Progress:', layout=Layout(height='25px', width='50%'),…"
      ]
     },
     "metadata": {},
     "output_type": "display_data"
    },
    {
     "name": "stdout",
     "output_type": "stream",
     "text": [
      "root\n",
      " |-- machine_id: integer (nullable = true)\n",
      " |-- site_session_id: long (nullable = true)\n",
      " |-- prod_category_id: long (nullable = true)\n",
      " |-- prod_name: string (nullable = true)\n",
      " |-- domain_id: string (nullable = true)\n",
      " |-- prod_qty: string (nullable = true)\n",
      " |-- prod_totprice: string (nullable = true)\n",
      " |-- basket_tot: string (nullable = true)\n",
      " |-- event_date: string (nullable = true)\n",
      " |-- event_time: string (nullable = true)\n",
      " |-- hoh_most_education: string (nullable = true)\n",
      " |-- census_region: string (nullable = true)\n",
      " |-- household_size: string (nullable = true)\n",
      " |-- hoh_oldest_age: string (nullable = true)\n",
      " |-- household_income: string (nullable = true)\n",
      " |-- children: string (nullable = true)\n",
      " |-- racial_background: string (nullable = true)\n",
      " |-- connection_speed: string (nullable = true)\n",
      " |-- country_of_origin: string (nullable = true)\n",
      " |-- zip_code: string (nullable = true)\n",
      " |-- domain_name: string (nullable = true)\n",
      "\n",
      "+----------+-------------------+----------------+---------+--------------------+--------+-------------+----------+----------+----------+------------------+-------------+--------------+--------------+----------------+--------+-----------------+----------------+-----------------+--------+-----------+\n",
      "|machine_id|    site_session_id|prod_category_id|prod_name|           domain_id|prod_qty|prod_totprice|basket_tot|event_date|event_time|hoh_most_education|census_region|household_size|hoh_oldest_age|household_income|children|racial_background|connection_speed|country_of_origin|zip_code|domain_name|\n",
      "+----------+-------------------+----------------+---------+--------------------+--------+-------------+----------+----------+----------+------------------+-------------+--------------+--------------+----------------+--------+-----------------+----------------+-----------------+--------+-----------+\n",
      "| 182325451|6842979938964571944|              43|     null|10326615452578885078|       1|         null|  251.0000|  20190722|   2:37:18|                99|            3|             2|             3|              12|       0|                5|               1|                0|   23666|     aa.com|\n",
      "| 182325451|6123670944212175306|              43|     null|10326615452578885078|       1|         null|  290.5000|  20190725|  17:47:05|                99|            3|             2|             3|              12|       0|                5|               1|                0|   23666|     aa.com|\n",
      "| 198639964| 170659318889183042|              43|     null|10326615452578885078|       1|         null| 1730.9700|  20191227|   2:02:42|                 3|            3|             3|            11|              11|       1|                1|               1|                1|   28278|     aa.com|\n",
      "| 224129231|                  0|              43|     null|10326615452578885078|       1|         null|  869.2000|  20190116|  15:09:35|                99|            1|             1|            11|              16|       0|                1|               1|                0|   17402|     aa.com|\n",
      "| 224332306|8175429287523835573|              43|     null|10326615452578885078|       1|         null|    0.0000|  20190604|   1:10:33|                 4|            3|             5|             9|              17|       0|                1|               1|                0|   75075|     aa.com|\n",
      "| 224686673|                  0|              43|     null|10326615452578885078|       1|         null|  321.3000|  20190407|   1:25:24|                 3|            4|             2|            10|              15|       0|                5|               1|                1|   89147|     aa.com|\n",
      "| 225565172|2296893981422302181|              43|     null|10326615452578885078|       1|         null|  344.5600|  20190324|  11:23:29|                 3|            3|             1|             6|              17|       0|                1|               1|                0|   70665|     aa.com|\n",
      "| 225565172|2296893981422302181|              43|     null|10326615452578885078|       1|         null|  327.8000|  20190324|  11:07:19|                 3|            3|             1|             6|              17|       0|                1|               1|                0|   70665|     aa.com|\n",
      "| 226692127|8632849289455261516|              43|     null|10326615452578885078|       1|         null|  281.3000|  20190115|   3:09:06|                99|            4|             1|             3|              13|       0|                1|               1|                0|    null|     aa.com|\n",
      "| 226692127|8632849289455261516|              43|     null|10326615452578885078|       1|         null|  245.1000|  20190115|   3:13:29|                99|            4|             1|             3|              13|       0|                1|               1|                0|    null|     aa.com|\n",
      "+----------+-------------------+----------------+---------+--------------------+--------+-------------+----------+----------+----------+------------------+-------------+--------------+--------------+----------------+--------+-----------------+----------------+-----------------+--------+-----------+\n",
      "only showing top 10 rows\n",
      "\n",
      "There are 581088 rows in the transaction DataFrame"
     ]
    }
   ],
   "source": [
    "# Check the schema of columns \n",
    "transaction.printSchema()\n",
    "\n",
    "# Show the first 10 observations\n",
    "transaction.show(10)\n",
    "\n",
    "# Print the total number of rows\n",
    "print(\"There are {} rows in the transaction DataFrame\".format(transaction.count()))"
   ]
  },
  {
   "cell_type": "code",
   "execution_count": 4,
   "metadata": {},
   "outputs": [
    {
     "data": {
      "application/vnd.jupyter.widget-view+json": {
       "model_id": "",
       "version_major": 2,
       "version_minor": 0
      },
      "text/plain": [
       "FloatProgress(value=0.0, bar_style='info', description='Progress:', layout=Layout(height='25px', width='50%'),…"
      ]
     },
     "metadata": {},
     "output_type": "display_data"
    },
    {
     "name": "stdout",
     "output_type": "stream",
     "text": [
      "root\n",
      " |-- Product Category ID: long (nullable = true)\n",
      " |-- Topline Category: string (nullable = true)\n",
      " |-- Report Category: string (nullable = true)\n",
      " |-- Report Sub-Category: string (nullable = true)\n",
      " |-- Item Category: string (nullable = true)\n",
      " |-- Item Sub-Category: string (nullable = true)\n",
      "\n",
      "+-------------------+----------------+--------------------+-------------------+------------------+------------------+\n",
      "|Product Category ID|Topline Category|     Report Category|Report Sub-Category|     Item Category| Item Sub-Category|\n",
      "+-------------------+----------------+--------------------+-------------------+------------------+------------------+\n",
      "|                 43|          TRAVEL|          AIR TRAVEL|         AIR TRAVEL|        AIR TRAVEL|        AIR TRAVEL|\n",
      "|                 44|          TRAVEL|  HOTEL RESERVATIONS| HOTEL RESERVATIONS|HOTEL RESERVATIONS|HOTEL RESERVATIONS|\n",
      "|                 45|          TRAVEL|          CAR RENTAL|         CAR RENTAL|        CAR RENTAL|        CAR RENTAL|\n",
      "|                 46|          TRAVEL|     TRAVEL PACKAGES|    TRAVEL PACKAGES|   TRAVEL PACKAGES|   TRAVEL PACKAGES|\n",
      "|                 47|          TRAVEL|        OTHER TRAVEL|       OTHER TRAVEL|      OTHER TRAVEL|      OTHER TRAVEL|\n",
      "|                 99|          TRAVEL|             UNKNOWN|               NULL|              NULL|              NULL|\n",
      "|                999|      NON-TRAVEL|             UNKNOWN|               NULL|              NULL|              NULL|\n",
      "|         1000000000|      NON-TRAVEL|APPAREL, ACCESSOR...|               NULL|              NULL|              NULL|\n",
      "|         1001000000|      NON-TRAVEL|APPAREL, ACCESSOR...|    APPAREL & SHOES|              NULL|              NULL|\n",
      "|         1001001000|      NON-TRAVEL|APPAREL, ACCESSOR...|    APPAREL & SHOES|           APPAREL|              NULL|\n",
      "+-------------------+----------------+--------------------+-------------------+------------------+------------------+\n",
      "only showing top 10 rows\n",
      "\n",
      "There are 327 rows in the category DataFrame\n",
      "root\n",
      " |-- machine_id: integer (nullable = true)\n",
      " |-- site_session_id: long (nullable = true)\n",
      " |-- prod_category_id: long (nullable = true)\n",
      " |-- prod_name: string (nullable = true)\n",
      " |-- domain_id: string (nullable = true)\n",
      " |-- prod_qty: string (nullable = true)\n",
      " |-- prod_totprice: string (nullable = true)\n",
      " |-- basket_tot: string (nullable = true)\n",
      " |-- event_date: string (nullable = true)\n",
      " |-- event_time: string (nullable = true)\n",
      " |-- hoh_most_education: string (nullable = true)\n",
      " |-- census_region: string (nullable = true)\n",
      " |-- household_size: string (nullable = true)\n",
      " |-- hoh_oldest_age: string (nullable = true)\n",
      " |-- household_income: string (nullable = true)\n",
      " |-- children: string (nullable = true)\n",
      " |-- racial_background: string (nullable = true)\n",
      " |-- connection_speed: string (nullable = true)\n",
      " |-- country_of_origin: string (nullable = true)\n",
      " |-- zip_code: string (nullable = true)\n",
      " |-- domain_name: string (nullable = true)"
     ]
    }
   ],
   "source": [
    "# Check the schema of columns \n",
    "category.printSchema()\n",
    "\n",
    "# Show the first 10 observations\n",
    "category.show(10)\n",
    "\n",
    "# Print the total number of rows\n",
    "print(\"There are {} rows in the category DataFrame\".format(category.count()))\n",
    "\n",
    "# Print Schema\n",
    "transaction.printSchema()"
   ]
  },
  {
   "cell_type": "code",
   "execution_count": 5,
   "metadata": {},
   "outputs": [
    {
     "data": {
      "application/vnd.jupyter.widget-view+json": {
       "model_id": "",
       "version_major": 2,
       "version_minor": 0
      },
      "text/plain": [
       "FloatProgress(value=0.0, bar_style='info', description='Progress:', layout=Layout(height='25px', width='50%'),…"
      ]
     },
     "metadata": {},
     "output_type": "display_data"
    },
    {
     "name": "stdout",
     "output_type": "stream",
     "text": [
      "root\n",
      " |-- machine_id: integer (nullable = true)\n",
      " |-- site_session_id: long (nullable = true)\n",
      " |-- prod_category_id: integer (nullable = true)\n",
      " |-- prod_name: string (nullable = true)\n",
      " |-- domain_id: integer (nullable = true)\n",
      " |-- prod_qty: float (nullable = true)\n",
      " |-- prod_totprice: float (nullable = true)\n",
      " |-- basket_tot: float (nullable = true)\n",
      " |-- event_date: string (nullable = true)\n",
      " |-- event_time: string (nullable = true)\n",
      " |-- hoh_most_education: string (nullable = true)\n",
      " |-- census_region: string (nullable = true)\n",
      " |-- household_size: string (nullable = true)\n",
      " |-- hoh_oldest_age: string (nullable = true)\n",
      " |-- household_income: string (nullable = true)\n",
      " |-- children: string (nullable = true)\n",
      " |-- racial_background: string (nullable = true)\n",
      " |-- connection_speed: string (nullable = true)\n",
      " |-- country_of_origin: string (nullable = true)\n",
      " |-- zip_code: string (nullable = true)\n",
      " |-- domain_name: string (nullable = true)"
     ]
    }
   ],
   "source": [
    "transaction = transaction.withColumn(\"prod_qty\",col(\"prod_qty\").cast(IntegerType()))\n",
    "transaction = transaction.withColumn(\"prod_category_id\",col(\"prod_category_id\").cast(IntegerType()))\n",
    "transaction = transaction.withColumn(\"domain_id\",col(\"domain_id\").cast(IntegerType()))\n",
    "transaction = transaction.withColumn(\"prod_totprice\",col(\"prod_totprice\").cast(IntegerType()))\n",
    "transaction = transaction.withColumn(\"prod_qty\",col(\"prod_qty\").cast(\"float\"))\n",
    "transaction = transaction.withColumn(\"prod_totprice\",col(\"prod_totprice\").cast(\"float\"))\n",
    "transaction = transaction.withColumn(\"basket_tot\",col(\"basket_tot\").cast(\"float\"))\n",
    "\n",
    "# Check the schema again\n",
    "transaction.printSchema()"
   ]
  },
  {
   "cell_type": "code",
   "execution_count": 6,
   "metadata": {},
   "outputs": [
    {
     "data": {
      "application/vnd.jupyter.widget-view+json": {
       "model_id": "",
       "version_major": 2,
       "version_minor": 0
      },
      "text/plain": [
       "FloatProgress(value=0.0, bar_style='info', description='Progress:', layout=Layout(height='25px', width='50%'),…"
      ]
     },
     "metadata": {},
     "output_type": "display_data"
    },
    {
     "name": "stdout",
     "output_type": "stream",
     "text": [
      "+----------+-------------------+----------------+---------+---------+--------+-------------+----------+----------+----------+------------------+-------------+--------------+--------------+----------------+--------+-----------------+----------------+-----------------+--------+-----------+\n",
      "|machine_id|    site_session_id|prod_category_id|prod_name|domain_id|prod_qty|prod_totprice|basket_tot|event_date|event_time|hoh_most_education|census_region|household_size|hoh_oldest_age|household_income|children|racial_background|connection_speed|country_of_origin|zip_code|domain_name|\n",
      "+----------+-------------------+----------------+---------+---------+--------+-------------+----------+----------+----------+------------------+-------------+--------------+--------------+----------------+--------+-----------------+----------------+-----------------+--------+-----------+\n",
      "| 182325451|6842979938964571944|              43|     null|     null|     1.0|         null|     251.0|  20190722|   2:37:18|                99|            3|             2|             3|              12|       0|                5|               1|                0|   23666|     aa.com|\n",
      "| 182325451|6123670944212175306|              43|     null|     null|     1.0|         null|     290.5|  20190725|  17:47:05|                99|            3|             2|             3|              12|       0|                5|               1|                0|   23666|     aa.com|\n",
      "| 198639964| 170659318889183042|              43|     null|     null|     1.0|         null|   1730.97|  20191227|   2:02:42|                 3|            3|             3|            11|              11|       1|                1|               1|                1|   28278|     aa.com|\n",
      "| 224129231|                  0|              43|     null|     null|     1.0|         null|     869.2|  20190116|  15:09:35|                99|            1|             1|            11|              16|       0|                1|               1|                0|   17402|     aa.com|\n",
      "| 224332306|8175429287523835573|              43|     null|     null|     1.0|         null|       0.0|  20190604|   1:10:33|                 4|            3|             5|             9|              17|       0|                1|               1|                0|   75075|     aa.com|\n",
      "| 224686673|                  0|              43|     null|     null|     1.0|         null|     321.3|  20190407|   1:25:24|                 3|            4|             2|            10|              15|       0|                5|               1|                1|   89147|     aa.com|\n",
      "| 225565172|2296893981422302181|              43|     null|     null|     1.0|         null|    344.56|  20190324|  11:23:29|                 3|            3|             1|             6|              17|       0|                1|               1|                0|   70665|     aa.com|\n",
      "| 225565172|2296893981422302181|              43|     null|     null|     1.0|         null|     327.8|  20190324|  11:07:19|                 3|            3|             1|             6|              17|       0|                1|               1|                0|   70665|     aa.com|\n",
      "| 226692127|8632849289455261516|              43|     null|     null|     1.0|         null|     281.3|  20190115|   3:09:06|                99|            4|             1|             3|              13|       0|                1|               1|                0|    null|     aa.com|\n",
      "| 226692127|8632849289455261516|              43|     null|     null|     1.0|         null|     245.1|  20190115|   3:13:29|                99|            4|             1|             3|              13|       0|                1|               1|                0|    null|     aa.com|\n",
      "| 226946696|2420051416601512521|              43|     null|     null|     1.0|         null|    890.44|  20190510|   2:32:15|                 2|            3|             4|             6|              15|       1|                1|               1|                0|   74728|     aa.com|\n",
      "| 227022220|7347671343614982720|              43|     null|     null|     1.0|         null|     347.2|  20191008|  16:34:41|                 5|            2|             2|             7|              15|       0|                1|               1|                1|   60208|     aa.com|\n",
      "| 227022220|7347671343614982720|              43|     null|     null|     1.0|         null|     103.3|  20191008|  16:38:13|                 5|            2|             2|             7|              15|       0|                1|               1|                1|   60208|     aa.com|\n",
      "| 227806729| 752449024032142006|              43|     null|     null|     1.0|         null|     212.2|  20191002|   0:22:45|                99|            2|             1|             5|              14|       0|                3|               1|                1|   43040|     aa.com|\n",
      "| 227806729|6678345802890986887|              43|     null|     null|     1.0|         null|    337.54|  20191017|   0:24:11|                99|            2|             1|             5|              14|       0|                3|               1|                1|   43040|     aa.com|\n",
      "| 227875861|5335739573948333048|              43|     null|     null|     1.0|         null|     207.0|  20190411|  14:17:19|                 4|            4|             4|             2|              17|       1|                5|               1|                0|   80013|     aa.com|\n",
      "| 229248782|                  0|              43|     null|     null|     1.0|         null|     159.6|  20191206|  18:35:15|                 4|            3|             3|             6|              15|       1|                1|               1|                0|   76017|     aa.com|\n",
      "| 229248782|                  0|              43|     null|     null|     1.0|         null|     159.6|  20191207|  17:00:43|                 4|            3|             3|             6|              15|       1|                1|               1|                0|   76017|     aa.com|\n",
      "| 229689488|                  0|              43|     null|     null|     1.0|         null|     555.6|  20190326|  16:49:05|                 3|            2|             2|            10|              12|       1|                1|               1|                0|   46901|     aa.com|\n",
      "| 230374869|1495028068439434730|              43|     null|     null|     1.0|         null|       0.0|  20190106|  22:38:25|                 4|            4|             1|            11|              11|       0|                1|               1|                0|   87120|     aa.com|\n",
      "+----------+-------------------+----------------+---------+---------+--------+-------------+----------+----------+----------+------------------+-------------+--------------+--------------+----------------+--------+-----------------+----------------+-----------------+--------+-----------+\n",
      "only showing top 20 rows"
     ]
    }
   ],
   "source": [
    "transaction.show()"
   ]
  },
  {
   "cell_type": "markdown",
   "metadata": {},
   "source": [
    "# 2. Exploratory Data Analysis"
   ]
  },
  {
   "cell_type": "code",
   "execution_count": 7,
   "metadata": {},
   "outputs": [
    {
     "data": {
      "application/vnd.jupyter.widget-view+json": {
       "model_id": "",
       "version_major": 2,
       "version_minor": 0
      },
      "text/plain": [
       "FloatProgress(value=0.0, bar_style='info', description='Progress:', layout=Layout(height='25px', width='50%'),…"
      ]
     },
     "metadata": {},
     "output_type": "display_data"
    },
    {
     "name": "stdout",
     "output_type": "stream",
     "text": [
      "+----------+-------------------+----------------+--------------------+---------+--------+-------------+----------+----------+----------+------------------+-------------+--------------+--------------+----------------+--------+-----------------+----------------+-----------------+--------+-----------+\n",
      "|machine_id|    site_session_id|prod_category_id|           prod_name|domain_id|prod_qty|prod_totprice|basket_tot|event_date|event_time|hoh_most_education|census_region|household_size|hoh_oldest_age|household_income|children|racial_background|connection_speed|country_of_origin|zip_code|domain_name|\n",
      "+----------+-------------------+----------------+--------------------+---------+--------+-------------+----------+----------+----------+------------------+-------------+--------------+--------------+----------------+--------+-----------------+----------------+-----------------+--------+-----------+\n",
      "| 212148765|6660154091378260634|      2003005073|Spelling & Poetry...|     null|     1.0|          5.0|       8.0|  20190619|  17:37:18|                 2|            2|             2|            11|              12|       1|                5|               1|                0|   63385|   ebay.com|\n",
      "| 212148765|7614237826670971166|      2003005073|A Beka Language A...|     null|     1.0|         12.0|     12.99|  20190619|  22:57:32|                 2|            2|             2|            11|              12|       1|                5|               1|                0|   63385|   ebay.com|\n",
      "| 212148765|8875827722313140658|      2003005073|Abeka Science/Hea...|     null|     1.0|         12.0|     10.95|  20190621|   3:08:23|                 2|            2|             2|            11|              12|       1|                5|               1|                0|   63385|   ebay.com|\n",
      "| 212148765|6274090705732767298|      2003005073|Abeka 4 Spelling ...|     null|     1.0|          5.0|       5.0|  20190710|  18:25:23|                 2|            2|             2|            11|              12|       1|                5|               1|                0|   63385|   ebay.com|\n",
      "| 212148765|8599072414206986811|      2003005073|Abeka 5th/6th Gra...|     null|     1.0|          0.0|      4.26|  20191008|  23:58:41|                 2|            2|             2|            11|              12|       1|                5|               1|                0|   63385|   ebay.com|\n",
      "| 212877756|2599225291334934078|      2003005060|Pickwick Lake, Al...|     null|     1.0|         12.0|     12.66|  20190814|  20:59:52|                 4|            2|             2|            10|              15|       0|                1|               1|                0|   63501|   ebay.com|\n",
      "| 229452313|5076558857022921725|      2003005073|A Beka God's Livi...|     null|     1.0|         19.0|      19.0|  20190821|  23:31:10|                 3|            2|             5|            11|              16|       1|                1|               1|                0|   48176|   ebay.com|\n",
      "| 229452313|7299848851689589515|      2003005073|Teaching Textbook...|     null|     1.0|         12.0|     12.99|  20190925|   0:59:37|                 3|            2|             5|            11|              16|       1|                1|               1|                0|   48176|   ebay.com|\n",
      "| 229452313|                  0|      2003005073|Abeka Grammar and...|     null|     1.0|         18.0|      18.0|  20191002|   1:02:03|                 3|            2|             5|            11|              16|       1|                1|               1|                0|   48176|   ebay.com|\n",
      "| 229452313|1119163666543051048|      2003005073|Abeka Grammar and...|     null|     1.0|         15.0|     18.79|  20191002|   0:56:57|                 3|            2|             5|            11|              16|       1|                1|               1|                0|   48176|   ebay.com|\n",
      "| 229452313|8340337338558131283|      2003005058|B10 VTG Book Gloo...|     null|     1.0|         13.0|     13.99|  20191103|   2:05:16|                 3|            2|             5|            11|              16|       1|                1|               1|                0|   48176|   ebay.com|\n",
      "| 230140275|8616173295579346180|      2003005060|Eyewitness: Baseb...|     null|     1.0|          3.0|      3.91|  20191027|   1:13:56|                 5|            1|             5|             9|              18|       1|                2|               1|                0|   19096|   ebay.com|\n",
      "| 230591101|8363858898942836670|      2003005060|NEW Arcadia Quest...|     null|     1.0|        159.0|     159.0|  20190526|  23:41:55|                 2|            1|             5|             6|              11|       1|                1|               1|                0|   16002|   ebay.com|\n",
      "| 231873505|1354907829810943891|      2003005060|The Last Whole Ea...|     null|     1.0|         33.0|    117.03|  20190814|  23:23:22|                 4|            3|             1|             9|              18|       0|                5|               1|                0|   30075|   ebay.com|\n",
      "| 231873505|                  0|      2003005060|The Last Whole Ea...|     null|     1.0|         33.0|    117.03|  20190816|   0:07:06|                 4|            3|             1|             9|              18|       0|                5|               1|                0|   30075|   ebay.com|\n",
      "| 231873505|                  0|      2003005060|The Last Whole Ea...|     null|     1.0|         33.0|    117.03|  20190817|  23:54:20|                 4|            3|             1|             9|              18|       0|                5|               1|                0|   30075|   ebay.com|\n",
      "| 231942538|4261154221536950235|      2003005060|Echoes of Honor b...|     null|     1.0|         18.0|     18.98|  20190517|  18:49:49|                 3|            3|             2|            11|              13|       1|                1|               1|                0|   30094|   ebay.com|\n",
      "| 232254876|4531178719527703401|      2003005073|PDF  Textbook Of ...|     null|     1.0|          2.0|       2.5|  20190103|  19:35:21|                 3|            3|             3|             7|              14|       1|                1|               1|                0|   30506|   ebay.com|\n",
      "| 233175859|3667299018398986201|      2003005073|PDF  Is Everyone ...|     null|     1.0|          9.0|      9.99|  20190115|  16:18:03|                 3|            2|             2|             8|              16|       1|                1|               1|                0|   61701|   ebay.com|\n",
      "| 233938148|5070984399237715693|      2003005060|The Disappearing ...|     null|     1.0|          4.0|      4.62|  20190604|  23:50:14|                 5|            1|             2|            11|              13|       1|                1|               1|                0|   17603|   ebay.com|\n",
      "+----------+-------------------+----------------+--------------------+---------+--------+-------------+----------+----------+----------+------------------+-------------+--------------+--------------+----------------+--------+-----------------+----------------+-----------------+--------+-----------+\n",
      "only showing top 20 rows"
     ]
    }
   ],
   "source": [
    "# We are only interested in the book categories - let's filter\n",
    "transaction_filtered = transaction.filter((transaction.prod_category_id==2003005058)|(transaction.prod_category_id==2003005059)|(transaction.prod_category_id==2003005060)|(transaction.prod_category_id==2003005061)|(transaction.prod_category_id==2003005062)|(transaction.prod_category_id==2003005063)|(transaction.prod_category_id==2003005064)|(transaction.prod_category_id==2003005065)|(transaction.prod_category_id==2003005066)|(transaction.prod_category_id==2003005067)|(transaction.prod_category_id==2003005068)|(transaction.prod_category_id==2003005069)|(transaction.prod_category_id==2003005070)|(transaction.prod_category_id==2003005071)|(transaction.prod_category_id==2003005072)|(transaction.prod_category_id==2003005073)|(transaction.prod_category_id==2003005074))\n",
    "transaction_filtered.show()"
   ]
  },
  {
   "cell_type": "code",
   "execution_count": 8,
   "metadata": {},
   "outputs": [
    {
     "data": {
      "application/vnd.jupyter.widget-view+json": {
       "model_id": "",
       "version_major": 2,
       "version_minor": 0
      },
      "text/plain": [
       "FloatProgress(value=0.0, bar_style='info', description='Progress:', layout=Layout(height='25px', width='50%'),…"
      ]
     },
     "metadata": {},
     "output_type": "display_data"
    },
    {
     "name": "stdout",
     "output_type": "stream",
     "text": [
      "+----------+-------------------+----------------+--------------------+---------+--------+-------------+----------+----------+----------+------------------+-------------+--------------+--------------+----------------+--------+-----------------+----------------+-----------------+--------+-----------+\n",
      "|machine_id|    site_session_id|prod_category_id|           prod_name|domain_id|prod_qty|prod_totprice|basket_tot|event_date|event_time|hoh_most_education|census_region|household_size|hoh_oldest_age|household_income|children|racial_background|connection_speed|country_of_origin|zip_code|domain_name|\n",
      "+----------+-------------------+----------------+--------------------+---------+--------+-------------+----------+----------+----------+------------------+-------------+--------------+--------------+----------------+--------+-----------------+----------------+-----------------+--------+-----------+\n",
      "| 171914940|5412109291078152593|      2003005073|1st Grade Spellin...|     null|     1.0|          9.0|      34.0|  20190128|  22:51:47|                 2|            3|             1|             6|              11|       0|                1|               1|                0|   29405| amazon.com|\n",
      "| 171914940|5412109291078152593|      2003005063|School Zone - Rea...|     null|     1.0|          9.0|      34.0|  20190128|  22:51:47|                 2|            3|             1|             6|              11|       0|                1|               1|                0|   29405| amazon.com|\n",
      "| 171914940|4454449006448371666|      2003005063|The Golden Compas...|     null|     1.0|         14.0|     33.17|  20190311|  20:01:01|                 2|            3|             1|             6|              11|       0|                1|               1|                0|   29405| amazon.com|\n",
      "| 171914940|                  0|      2003005063|GOOSE EGGS (Biscu...|     null|     1.0|          7.0|     31.91|  20190423|  22:13:19|                 2|            3|             1|             6|              11|       0|                1|               1|                0|   29405| amazon.com|\n",
      "| 171914940|                  0|      2003005063|Pretty Little Lia...|     null|     2.0|         21.0|     31.91|  20190423|  22:13:19|                 2|            3|             1|             6|              11|       0|                1|               1|                0|   29405| amazon.com|\n",
      "| 179376772|1421818856741064665|      2003005060|The Big Letdown: ...|     null|     1.0|         19.0|     43.98|  20191218|   4:01:49|                99|            1|             5|             8|              16|       1|                5|               1|                0|   01057| amazon.com|\n",
      "| 179376772|1421818856741064665|      2003005060|Skimmed: Breastfe...|     null|     1.0|         17.0|     43.98|  20191218|   4:01:49|                99|            1|             5|             8|              16|       1|                5|               1|                0|   01057| amazon.com|\n",
      "| 192415223| 677106192144297990|      2003005063|Manage Your Day-t...|     null|     1.0|          6.0|      7.57|  20190105|  18:50:08|                99|            3|             1|             3|              14|       0|                1|               1|                0|   78703| amazon.com|\n",
      "| 205955364|2668112242777255505|      2003005073|The foundations o...|     null|     1.0|          5.0|      5.81|  20191222|   9:12:10|                 4|            4|             1|            10|              18|       0|                1|               1|                0|   92084| amazon.com|\n",
      "| 205955364|4068724319338210689|      2003005073|Lectures on the I...|     null|     1.0|         23.0|     31.61|  20191222|   3:59:45|                 4|            4|             1|            10|              18|       0|                1|               1|                0|   92084| amazon.com|\n",
      "| 206781973|                  0|      2003005060|Step by Step Knif...|     null|     1.0|         17.0|    334.01|  20191229|  23:29:21|                 3|            3|             3|             7|              18|       1|                1|               1|                1|   32746| amazon.com|\n",
      "| 207243543|6054339080438339778|      2003005060|The Doctor's Comp...|     null|     1.0|          8.0|    116.79|  20191227|  22:40:00|                 4|            2|             2|             2|              11|       1|                1|               1|                0|   48858| amazon.com|\n",
      "| 212148765|                  0|      2003005062|Daily Planner 000...|     null|     1.0|          6.0|      7.14|  20190401|  17:27:03|                 2|            2|             2|            11|              12|       1|                5|               1|                0|   63385| amazon.com|\n",
      "| 212148765|7918315866439526009|      2003005060|The Mocha (The Pu...|     null|     1.0|          4.0|     33.97|  20191128|  23:26:21|                 2|            2|             2|            11|              12|       1|                5|               1|                0|   63385| amazon.com|\n",
      "| 212148765|7918315866439526009|      2003005060|Spirit (The Puppy...|     null|     1.0|          5.0|     33.97|  20191128|  23:26:21|                 2|            2|             2|            11|              12|       1|                5|               1|                0|   63385| amazon.com|\n",
      "| 212689568|                  0|      2003005060|Inside Out and Ba...|     null|     1.0|          5.0|     31.33|  20191128|   0:15:47|                 2|            4|             1|             6|              12|       0|                1|               1|                0|   95148| amazon.com|\n",
      "| 213823412|3724338060553574413|      2003005060|The Rise of Tiama...|     null|     1.0|         18.0|       0.0|  20190111|   4:27:24|                 3|            3|             5|             8|              15|       1|                1|               1|                0|   23703| amazon.com|\n",
      "| 213823412|3724338060553574413|      2003005060|The Rise of Tiama...|     null|     1.0|         33.0|       0.0|  20190111|   4:27:24|                 3|            3|             5|             8|              15|       1|                1|               1|                0|   23703| amazon.com|\n",
      "| 213823412|3724338060553574413|      2003005060|The Rise of Tiama...|     null|     1.0|         18.0|       0.0|  20190111|   4:27:24|                 3|            3|             5|             8|              15|       1|                1|               1|                0|   23703| amazon.com|\n",
      "| 215956235|                  0|      2003005060|Guided Math Works...|     null|     1.0|         39.0|      53.3|  20190710|  12:40:06|                99|            3|             2|             4|              12|       1|                1|               1|                0|   76266| amazon.com|\n",
      "+----------+-------------------+----------------+--------------------+---------+--------+-------------+----------+----------+----------+------------------+-------------+--------------+--------------+----------------+--------+-----------------+----------------+-----------------+--------+-----------+\n",
      "only showing top 20 rows"
     ]
    }
   ],
   "source": [
    "# We are only interested in the book categories that are sold in Amazon.com\n",
    "transaction_filtered = transaction_filtered.filter((transaction_filtered.domain_name==\"amazon.com\"))\n",
    "transaction_filtered.show()"
   ]
  },
  {
   "cell_type": "code",
   "execution_count": 9,
   "metadata": {},
   "outputs": [
    {
     "data": {
      "application/vnd.jupyter.widget-view+json": {
       "model_id": "",
       "version_major": 2,
       "version_minor": 0
      },
      "text/plain": [
       "FloatProgress(value=0.0, bar_style='info', description='Progress:', layout=Layout(height='25px', width='50%'),…"
      ]
     },
     "metadata": {},
     "output_type": "display_data"
    },
    {
     "name": "stdout",
     "output_type": "stream",
     "text": [
      "       machine_id  prod_category_id  ... country_of_origin  zip_code\n",
      "0       171914940        2003005073  ...                 0     29405\n",
      "1       171914940        2003005063  ...                 0     29405\n",
      "2       171914940        2003005063  ...                 0     29405\n",
      "3       171914940        2003005063  ...                 0     29405\n",
      "4       171914940        2003005063  ...                 0     29405\n",
      "...           ...               ...  ...               ...       ...\n",
      "18878   284909864        2003005060  ...                 0     32081\n",
      "18879   284909864        2003005063  ...                 0     32081\n",
      "18880   284910736        2003005073  ...                 1     08902\n",
      "18881   284910736        2003005073  ...                 1     08902\n",
      "18882   284912202        2003005060  ...                 0      None\n",
      "\n",
      "[18883 rows x 16 columns]"
     ]
    }
   ],
   "source": [
    "# We are only selecting the columns we will need for the analysis\n",
    "transaction_filtered_selected = transaction_filtered.select('machine_id','prod_category_id','prod_name','prod_qty','prod_totprice','basket_tot','hoh_most_education','census_region','household_size','hoh_oldest_age','household_income','children','children','connection_speed','country_of_origin','zip_code')\n",
    "transaction_filtered_selected.toPandas()"
   ]
  },
  {
   "cell_type": "code",
   "execution_count": 10,
   "metadata": {},
   "outputs": [
    {
     "data": {
      "application/vnd.jupyter.widget-view+json": {
       "model_id": "",
       "version_major": 2,
       "version_minor": 0
      },
      "text/plain": [
       "FloatProgress(value=0.0, bar_style='info', description='Progress:', layout=Layout(height='25px', width='50%'),…"
      ]
     },
     "metadata": {},
     "output_type": "display_data"
    },
    {
     "name": "stdout",
     "output_type": "stream",
     "text": [
      "   machine_id prod_category_id  ... country_of_origin  zip_code\n",
      "0   171914940        TEXTBOOKS  ...                 0     29405\n",
      "1   171914940   CHILDREN BOOKS  ...                 0     29405\n",
      "2   171914940   CHILDREN BOOKS  ...                 0     29405\n",
      "3   171914940   CHILDREN BOOKS  ...                 0     29405\n",
      "4   171914940   CHILDREN BOOKS  ...                 0     29405\n",
      "5   179376772    GENERAL BOOKS  ...                 0     01057\n",
      "6   179376772    GENERAL BOOKS  ...                 0     01057\n",
      "7   192415223   CHILDREN BOOKS  ...                 0     78703\n",
      "8   205955364        TEXTBOOKS  ...                 0     92084\n",
      "9   205955364        TEXTBOOKS  ...                 0     92084\n",
      "\n",
      "[10 rows x 16 columns]"
     ]
    }
   ],
   "source": [
    "# Update the value inside the 'prod_category_id' column to the respective book sub-category value\n",
    "transaction_mapped1 = transaction_filtered_selected.withColumn('prod_category_id', regexp_replace('prod_category_id', '2003005058', 'ART, MUSIC & PHOTOGRAPHY'))\n",
    "transaction_mapped2 = transaction_mapped1.withColumn('prod_category_id', regexp_replace('prod_category_id', '2003005059', 'BIOGRAPHY & MEMOIRS'))\n",
    "transaction_mapped3 = transaction_mapped2.withColumn('prod_category_id', regexp_replace('prod_category_id', '2003005060', 'GENERAL BOOKS'))\n",
    "transaction_mapped4 = transaction_mapped3.withColumn('prod_category_id', regexp_replace('prod_category_id', '2003005061', 'BUSINESS & INVESTING'))\n",
    "transaction_mapped5 = transaction_mapped4.withColumn('prod_category_id', regexp_replace('prod_category_id', '2003005062', 'CALENDARS'))\n",
    "transaction_mapped6 = transaction_mapped5.withColumn('prod_category_id', regexp_replace('prod_category_id', '2003005063', 'CHILDREN BOOKS'))\n",
    "transaction_mapped7 = transaction_mapped6.withColumn('prod_category_id', regexp_replace('prod_category_id', '2003005064', 'COOKING, FOOD & WINE'))\n",
    "transaction_mapped8 = transaction_mapped7.withColumn('prod_category_id', regexp_replace('prod_category_id', '2003005065', 'HEALTH, MIND & BODY'))\n",
    "transaction_mapped9 = transaction_mapped8.withColumn('prod_category_id', regexp_replace('prod_category_id', '2003005066', 'HISTORY'))\n",
    "transaction_mapped10 = transaction_mapped9.withColumn('prod_category_id', regexp_replace('prod_category_id', '2003005067', 'HOME, HOBBIES & GARDEN'))\n",
    "transaction_mapped11 = transaction_mapped10.withColumn('prod_category_id', regexp_replace('prod_category_id', '2003005068', 'LITERATURE & FICTION'))\n",
    "transaction_mapped12 = transaction_mapped11.withColumn('prod_category_id', regexp_replace('prod_category_id', '2003005069', 'PARENTING & FAMILIES'))\n",
    "transaction_mapped13 = transaction_mapped12.withColumn('prod_category_id', regexp_replace('prod_category_id', '2003005070', 'REFERENCE'))\n",
    "transaction_mapped14 = transaction_mapped13.withColumn('prod_category_id', regexp_replace('prod_category_id', '2003005071', 'RELIGION'))\n",
    "transaction_mapped15 = transaction_mapped14.withColumn('prod_category_id', regexp_replace('prod_category_id', '2003005072', 'ROMANCE'))\n",
    "transaction_mapped16 = transaction_mapped15.withColumn('prod_category_id', regexp_replace('prod_category_id', '2003005073', 'TEXTBOOKS'))\n",
    "transaction_mapped = transaction_mapped16.withColumn('prod_category_id', regexp_replace('prod_category_id', '2003005074', 'VIDEO GAMES STRATEGY GUIDES'))\n",
    "transaction_mapped.limit(10).toPandas()"
   ]
  },
  {
   "cell_type": "code",
   "execution_count": 11,
   "metadata": {},
   "outputs": [
    {
     "data": {
      "application/vnd.jupyter.widget-view+json": {
       "model_id": "",
       "version_major": 2,
       "version_minor": 0
      },
      "text/plain": [
       "FloatProgress(value=0.0, bar_style='info', description='Progress:', layout=Layout(height='25px', width='50%'),…"
      ]
     },
     "metadata": {},
     "output_type": "display_data"
    },
    {
     "name": "stdout",
     "output_type": "stream",
     "text": [
      "+--------------------+-------------+\n",
      "|    prod_category_id|sum(prod_qty)|\n",
      "+--------------------+-------------+\n",
      "|             ROMANCE|          3.0|\n",
      "|ART, MUSIC & PHOT...|       1330.0|\n",
      "|           REFERENCE|          1.0|\n",
      "|HOME, HOBBIES & G...|          1.0|\n",
      "|           CALENDARS|          9.0|\n",
      "| HEALTH, MIND & BODY|          7.0|\n",
      "|LITERATURE & FICTION|       2232.0|\n",
      "|            RELIGION|          5.0|\n",
      "| BIOGRAPHY & MEMOIRS|          1.0|\n",
      "|COOKING, FOOD & WINE|          2.0|\n",
      "|           TEXTBOOKS|       2640.0|\n",
      "|       GENERAL BOOKS|       6764.0|\n",
      "|      CHILDREN BOOKS|       7106.0|\n",
      "+--------------------+-------------+\n",
      "\n",
      "+--------------------+------------------+\n",
      "|    prod_category_id|   sum(basket_tot)|\n",
      "+--------------------+------------------+\n",
      "|             ROMANCE| 4.980000019073486|\n",
      "|ART, MUSIC & PHOT...| 43358.18020552397|\n",
      "|           REFERENCE|24.399999618530273|\n",
      "|HOME, HOBBIES & G...| 7.949999809265137|\n",
      "|           CALENDARS|   493.01001060009|\n",
      "| HEALTH, MIND & BODY| 1242.129970550537|\n",
      "|LITERATURE & FICTION|25667.310031175613|\n",
      "|            RELIGION| 536.9299926757812|\n",
      "| BIOGRAPHY & MEMOIRS| 2.990000009536743|\n",
      "|COOKING, FOOD & WINE| 50.46999931335449|\n",
      "|           TEXTBOOKS|151944.67946594954|\n",
      "|       GENERAL BOOKS|250926.34018654376|\n",
      "|      CHILDREN BOOKS| 174547.7500835508|\n",
      "+--------------------+------------------+\n",
      "\n",
      "+--------------------+------------------+\n",
      "|    prod_category_id|sum(prod_totprice)|\n",
      "+--------------------+------------------+\n",
      "|             ROMANCE|               0.0|\n",
      "|ART, MUSIC & PHOT...|           10235.0|\n",
      "|           REFERENCE|               5.0|\n",
      "|HOME, HOBBIES & G...|               3.0|\n",
      "|           CALENDARS|              84.0|\n",
      "| HEALTH, MIND & BODY|             105.0|\n",
      "|LITERATURE & FICTION|            6457.0|\n",
      "|            RELIGION|             118.0|\n",
      "| BIOGRAPHY & MEMOIRS|               5.0|\n",
      "|COOKING, FOOD & WINE|              21.0|\n",
      "|           TEXTBOOKS|           64775.0|\n",
      "|       GENERAL BOOKS|           64124.0|\n",
      "|      CHILDREN BOOKS|           49468.0|\n",
      "+--------------------+------------------+"
     ]
    }
   ],
   "source": [
    "transaction_mapped.groupBy([\"prod_category_id\"]).agg(F.sum(\"prod_qty\")).show()\n",
    "transaction_mapped.groupBy([\"prod_category_id\"]).agg(F.sum(\"basket_tot\")).show()\n",
    "transaction_mapped.groupBy([\"prod_category_id\"]).agg(F.sum(\"prod_totprice\")).show()"
   ]
  },
  {
   "cell_type": "code",
   "execution_count": 12,
   "metadata": {},
   "outputs": [
    {
     "data": {
      "application/vnd.jupyter.widget-view+json": {
       "model_id": "",
       "version_major": 2,
       "version_minor": 0
      },
      "text/plain": [
       "FloatProgress(value=0.0, bar_style='info', description='Progress:', layout=Layout(height='25px', width='50%'),…"
      ]
     },
     "metadata": {},
     "output_type": "display_data"
    },
    {
     "name": "stdout",
     "output_type": "stream",
     "text": [
      "+--------------------+------------------+\n",
      "|    prod_category_id|     avg(prod_qty)|\n",
      "+--------------------+------------------+\n",
      "|             ROMANCE|               1.0|\n",
      "|ART, MUSIC & PHOT...|1.0350194552529184|\n",
      "|           REFERENCE|               1.0|\n",
      "|HOME, HOBBIES & G...|               1.0|\n",
      "|           CALENDARS|               1.0|\n",
      "| HEALTH, MIND & BODY|1.1666666666666667|\n",
      "|LITERATURE & FICTION|1.0072202166064983|\n",
      "|            RELIGION|               1.0|\n",
      "| BIOGRAPHY & MEMOIRS|               1.0|\n",
      "|COOKING, FOOD & WINE|               1.0|\n",
      "|           TEXTBOOKS|1.0501193317422435|\n",
      "|       GENERAL BOOKS|1.0570401625253947|\n",
      "|      CHILDREN BOOKS| 1.103244837758112|\n",
      "+--------------------+------------------+\n",
      "\n",
      "+--------------------+------------------+\n",
      "|    prod_category_id|   avg(basket_tot)|\n",
      "+--------------------+------------------+\n",
      "|             ROMANCE|1.6600000063578289|\n",
      "|ART, MUSIC & PHOT...| 33.74177447900698|\n",
      "|           REFERENCE|24.399999618530273|\n",
      "|HOME, HOBBIES & G...| 7.949999809265137|\n",
      "|           CALENDARS| 54.77889006667667|\n",
      "| HEALTH, MIND & BODY|207.02166175842285|\n",
      "|LITERATURE & FICTION|11.582721133201991|\n",
      "|            RELIGION|107.38599853515625|\n",
      "| BIOGRAPHY & MEMOIRS| 2.990000009536743|\n",
      "|COOKING, FOOD & WINE|25.234999656677246|\n",
      "|           TEXTBOOKS| 60.43941108430769|\n",
      "|       GENERAL BOOKS| 39.21336774285729|\n",
      "|      CHILDREN BOOKS|27.099479907398045|\n",
      "+--------------------+------------------+\n",
      "\n",
      "+--------------------+------------------+\n",
      "|    prod_category_id|avg(prod_totprice)|\n",
      "+--------------------+------------------+\n",
      "|             ROMANCE|               0.0|\n",
      "|ART, MUSIC & PHOT...| 7.964980544747082|\n",
      "|           REFERENCE|               5.0|\n",
      "|HOME, HOBBIES & G...|               3.0|\n",
      "|           CALENDARS| 9.333333333333334|\n",
      "| HEALTH, MIND & BODY|              17.5|\n",
      "|LITERATURE & FICTION| 2.913808664259928|\n",
      "|            RELIGION|              23.6|\n",
      "| BIOGRAPHY & MEMOIRS|               5.0|\n",
      "|COOKING, FOOD & WINE|              10.5|\n",
      "|           TEXTBOOKS| 25.76571201272872|\n",
      "|       GENERAL BOOKS|10.020940771995624|\n",
      "|      CHILDREN BOOKS|  7.68017388604254|\n",
      "+--------------------+------------------+"
     ]
    }
   ],
   "source": [
    "transaction_mapped.select(\"prod_category_id\",\"prod_qty\").groupBy(\"prod_category_id\").agg(avg(\"prod_qty\")).show()\n",
    "transaction_mapped.select(\"prod_category_id\",\"basket_tot\").groupBy(\"prod_category_id\").agg(avg(\"basket_tot\")).show()\n",
    "transaction_mapped.select(\"prod_category_id\",\"prod_totprice\").groupBy(\"prod_category_id\").agg(avg(\"prod_totprice\")).show()"
   ]
  },
  {
   "cell_type": "code",
   "execution_count": 13,
   "metadata": {},
   "outputs": [
    {
     "data": {
      "application/vnd.jupyter.widget-view+json": {
       "model_id": "",
       "version_major": 2,
       "version_minor": 0
      },
      "text/plain": [
       "FloatProgress(value=0.0, bar_style='info', description='Progress:', layout=Layout(height='25px', width='50%'),…"
      ]
     },
     "metadata": {},
     "output_type": "display_data"
    },
    {
     "name": "stdout",
     "output_type": "stream",
     "text": [
      "+----------+-------------------+----------------+--------------------+---------+--------+-------------+----------+----------+----------+------------------+-------------+--------------+--------------+----------------+--------+-----------------+----------------+-----------------+--------+-----------+\n",
      "|machine_id|    site_session_id|prod_category_id|           prod_name|domain_id|prod_qty|prod_totprice|basket_tot|event_date|event_time|hoh_most_education|census_region|household_size|hoh_oldest_age|household_income|children|racial_background|connection_speed|country_of_origin|zip_code|domain_name|\n",
      "+----------+-------------------+----------------+--------------------+---------+--------+-------------+----------+----------+----------+------------------+-------------+--------------+--------------+----------------+--------+-----------------+----------------+-----------------+--------+-----------+\n",
      "| 259228973|4905657229081595999|      2003005060|State Quarter 199...|     null|     1.0|          4.0|   4468.89|  20191205|  17:06:57|                 2|            1|             5|             8|              13|       1|                1|               1|                0|   06457| amazon.com|\n",
      "| 259228973|4905657229081595999|      2003005060|Washington Quarte...|     null|     1.0|          4.0|   4468.89|  20191205|  17:06:57|                 2|            1|             5|             8|              13|       1|                1|               1|                0|   06457| amazon.com|\n",
      "| 259228973|4905657229081595999|      2003005060|Washington Quarte...|     null|     1.0|          3.0|   4468.89|  20191205|  17:06:57|                 2|            1|             5|             8|              13|       1|                1|               1|                0|   06457| amazon.com|\n",
      "| 264930688| 949464660716996782|      2003005063|The Pigeon Has Fe...|     null|     5.0|         34.0|   1698.18|  20190515|  19:31:28|                 3|            3|             2|            10|              13|       0|                1|               1|                0|   70803| amazon.com|\n",
      "| 265456917|6032578986215007725|      2003005063|Ready Player One:...|     null|    21.0|        178.0|   1070.79|  20190101|  20:59:35|                 3|            3|             2|             5|              16|       1|                5|               1|                0|   29306| amazon.com|\n",
      "| 265456917|6032578986215007725|      2003005063|Ready Player One:...|     null|    21.0|        270.0|   1070.79|  20190101|  20:59:35|                 3|            3|             2|             5|              16|       1|                5|               1|                0|   29306| amazon.com|\n",
      "| 265456917|6032578986215007725|      2003005063|Ready Player One:...|     null|    21.0|        335.0|   1070.79|  20190101|  20:59:35|                 3|            3|             2|             5|              16|       1|                5|               1|                0|   29306| amazon.com|\n",
      "| 265456917|6032578986215007725|      2003005063|Ready Player One:...|     null|    21.0|        216.0|   1070.79|  20190101|  20:59:35|                 3|            3|             2|             5|              16|       1|                5|               1|                0|   29306| amazon.com|\n",
      "| 265910228|5086692852034114651|      2003005060|The Pizza Bible: ...|     null|     2.0|         42.0|   1349.59|  20191218|   2:08:11|                 4|            4|             2|             7|              17|       1|                1|               1|                0|   80922| amazon.com|\n",
      "| 265910228|5086692852034114651|      2003005060|Drawing Fantastic...|     null|     1.0|         12.0|   1349.59|  20191218|   2:20:23|                 4|            4|             2|             7|              17|       1|                1|               1|                0|   80922| amazon.com|\n",
      "| 265910228|5086692852034114651|      2003005060|The Pizza Bible: ...|     null|     1.0|         12.0|   1349.59|  20191218|   2:08:11|                 4|            4|             2|             7|              17|       1|                1|               1|                0|   80922| amazon.com|\n",
      "| 269122063|5362223945883679285|      2003005073|Coding for Kids w...|     null|     1.0|         49.0|   1003.19|  20191209|  21:24:45|                 3|            2|             3|             6|              16|       1|                1|               1|                0|   44132| amazon.com|\n",
      "| 269122063|5362223945883679285|      2003005060|Forbidden Scrolle...|     null|     1.0|          9.0|   1003.19|  20191209|  21:24:45|                 3|            2|             3|             6|              16|       1|                1|               1|                0|   44132| amazon.com|\n",
      "| 269122063|5362223945883679285|      2003005060|Forbidden Scrolle...|     null|     1.0|         13.0|   1003.19|  20191209|  21:24:45|                 3|            2|             3|             6|              16|       1|                1|               1|                0|   44132| amazon.com|\n",
      "| 269122063|5362223945883679285|      2003005060|Forbidden Scrolle...|     null|     1.0|         11.0|   1003.19|  20191209|  21:24:45|                 3|            2|             3|             6|              16|       1|                1|               1|                0|   44132| amazon.com|\n",
      "| 283171732|                  0|      2003005060|Do You Mind If I ...|     null|     1.0|         16.0|   3559.86|  20191219|  20:07:19|                 4|            1|             3|            10|              17|       0|                3|               1|                0|   08822| amazon.com|\n",
      "+----------+-------------------+----------------+--------------------+---------+--------+-------------+----------+----------+----------+------------------+-------------+--------------+--------------+----------------+--------+-----------------+----------------+-----------------+--------+-----------+"
     ]
    }
   ],
   "source": [
    "transaction_filtered.registerTempTable('transaction_table')\n",
    "newDF = sqlContext.sql('select * from transaction_table where basket_tot>1000')\n",
    "newDF.show()"
   ]
  },
  {
   "cell_type": "code",
   "execution_count": 14,
   "metadata": {},
   "outputs": [
    {
     "data": {
      "application/vnd.jupyter.widget-view+json": {
       "model_id": "",
       "version_major": 2,
       "version_minor": 0
      },
      "text/plain": [
       "FloatProgress(value=0.0, bar_style='info', description='Progress:', layout=Layout(height='25px', width='50%'),…"
      ]
     },
     "metadata": {},
     "output_type": "display_data"
    },
    {
     "name": "stdout",
     "output_type": "stream",
     "text": [
      "+----------+-------------------+----------------+--------------------+---------+--------+-------------+----------+----------+----------+------------------+-------------+--------------+--------------+----------------+--------+-----------------+----------------+-----------------+--------+-----------+----+\n",
      "|machine_id|    site_session_id|prod_category_id|           prod_name|domain_id|prod_qty|prod_totprice|basket_tot|event_date|event_time|hoh_most_education|census_region|household_size|hoh_oldest_age|household_income|children|racial_background|connection_speed|country_of_origin|zip_code|domain_name|rank|\n",
      "+----------+-------------------+----------------+--------------------+---------+--------+-------------+----------+----------+----------+------------------+-------------+--------------+--------------+----------------+--------+-----------------+----------------+-----------------+--------+-----------+----+\n",
      "| 271296111|3793700835024179591|      2003005062|Bass 2019 Wall Ca...|     null|     1.0|         10.0|    220.52|  20190325|  11:17:07|                 3|            2|             5|             8|              14|       1|                1|               1|                0|   60126| amazon.com|   1|\n",
      "| 275617338| 112122165902942481|      2003005062|Dinosaurs Calenda...|     null|     1.0|          9.0|     42.31|  20190101|  22:18:18|                 3|            3|             2|             5|              16|       1|                1|               1|                0|   78233| amazon.com|   1|\n",
      "| 275617338| 112122165902942481|      2003005062|Paris France Cale...|     null|     1.0|         15.0|     42.31|  20190101|  22:18:18|                 3|            3|             2|             5|              16|       1|                1|               1|                0|   78233| amazon.com|   1|\n",
      "| 281353366|3866064959201069452|      2003005062|Dog Shaming 2019 ...|     null|     1.0|          7.0|      7.94|  20190105|  16:43:32|                 2|            2|             2|            11|              13|       0|                1|               1|                0|   50310| amazon.com|   1|\n",
      "| 212148765|                  0|      2003005062|Daily Planner 000...|     null|     1.0|          6.0|      7.14|  20190401|  17:27:03|                 2|            2|             2|            11|              12|       1|                5|               1|                0|   63385| amazon.com|   1|\n",
      "| 258949366| 279841879299718985|      2003005062|Blue Dog 2019 Wal...|     null|     1.0|         10.0|    111.51|  20190306|   6:03:05|                 2|            1|             3|            11|              11|       0|                1|               1|                0|   19083| amazon.com|   1|\n",
      "| 268742649| 478940702329587512|      2003005062|Peonies 2019 Mini...|     null|     1.0|          5.0|      0.38|  20190117|  19:15:39|                 4|            2|             4|            11|              16|       0|                1|               1|                0|   60605| amazon.com|   1|\n",
      "| 282765427|1083054339080569416|      2003005062|Thomas Kinkade Pa...|     null|     1.0|         14.0|      26.7|  20190228|  18:31:35|                 4|            4|             3|             9|              18|       0|                3|               1|                0|   91001| amazon.com|   1|\n",
      "| 283519081|5279127254822190287|      2003005062|2019-2023 Five Ye...|     null|     1.0|          8.0|      34.2|  20190308|  16:47:38|                 2|            3|             5|             9|              15|       1|                2|               1|                0|   36460| amazon.com|   1|\n",
      "| 278129820|3348610251704463026|      2003005064|Preserving Pember...|     null|     1.0|          8.0|     33.44|  20190528|   1:26:32|                 4|            3|             3|            11|              16|       1|                1|               1|                0|   40059| amazon.com|   1|\n",
      "| 279082688|4565475395485202206|      2003005064|Homestyle Quilts:...|     null|     1.0|         13.0|     17.03|  20190426|   1:06:29|                 2|            4|             2|            10|              16|       1|                1|               1|                0|   80003| amazon.com|   1|\n",
      "| 270473325|8002410610922801745|      2003005071|Cunningham's Ency...|     null|     1.0|         12.0|       0.0|  20190125|  18:00:26|                 3|            3|             3|             9|              13|       0|                2|               1|                0|   33637| amazon.com|   1|\n",
      "| 277964237| 784395773252277437|      2003005071|KJV Study Bible L...|     null|     1.0|         43.0|     46.67|  20190209|  20:49:52|                 2|            3|             3|             9|              12|       1|                1|               1|                0|   35752| amazon.com|   1|\n",
      "| 282346636|                  0|      2003005071|ESV Single Column...|     null|     1.0|         17.0|    163.42|  20190422|  22:14:23|                 3|            1|             1|             9|              13|       0|                1|               1|                0|   08736| amazon.com|   1|\n",
      "| 282346636|                  0|      2003005071|ESV Single Column...|     null|     1.0|         25.0|    163.42|  20190422|  22:14:23|                 3|            1|             1|             9|              13|       0|                1|               1|                0|   08736| amazon.com|   1|\n",
      "| 282346636|                  0|      2003005071|ESV Single Column...|     null|     1.0|         21.0|    163.42|  20190422|  22:14:23|                 3|            1|             1|             9|              13|       0|                1|               1|                0|   08736| amazon.com|   1|\n",
      "| 273162657|5994835977824733670|      2003005072|Imprisoned: Bride...|     null|     1.0|          0.0|      3.99|  20190119|   4:29:10|                 5|            3|             2|             9|              13|       1|                2|               1|                0|   36203| amazon.com|   1|\n",
      "| 275259249|4092757694494044188|      2003005072|Black Obsidian B0...|     null|     1.0|          0.0|       0.0|  20190409|  19:58:39|                 4|            4|             2|            11|              14|       0|                1|               1|                0|   92111| amazon.com|   1|\n",
      "| 263072972|7494865217843426168|      2003005072|The Billionaire o...|     null|     1.0|          0.0|      0.99|  20190625|  20:22:05|                 2|            3|             2|            10|              11|       1|                1|               1|                0|    null| amazon.com|   1|\n",
      "| 263262976|                  0|      2003005058|Male V??G??: Orig...|     null|    10.0|         85.0|      90.8|  20190419|   1:31:43|                 3|            3|             3|            11|              13|       1|                1|               1|                0|   21502| amazon.com|   1|\n",
      "+----------+-------------------+----------------+--------------------+---------+--------+-------------+----------+----------+----------+------------------+-------------+--------------+--------------+----------------+--------+-----------------+----------------+-----------------+--------+-----------+----+\n",
      "only showing top 20 rows"
     ]
    }
   ],
   "source": [
    "windowSpec = Window().partitionBy(['prod_category_id']).orderBy(F.desc('prod_qty'))\n",
    "transaction_filtered.withColumn(\"rank\",F.rank().over(windowSpec)).show()"
   ]
  },
  {
   "cell_type": "markdown",
   "metadata": {},
   "source": [
    "# SQL Queries"
   ]
  },
  {
   "cell_type": "code",
   "execution_count": null,
   "metadata": {},
   "outputs": [],
   "source": []
  },
  {
   "cell_type": "code",
   "execution_count": null,
   "metadata": {},
   "outputs": [],
   "source": []
  },
  {
   "cell_type": "code",
   "execution_count": null,
   "metadata": {},
   "outputs": [],
   "source": []
  },
  {
   "cell_type": "markdown",
   "metadata": {},
   "source": [
    "# Data Visualization"
   ]
  },
  {
   "cell_type": "code",
   "execution_count": null,
   "metadata": {},
   "outputs": [],
   "source": []
  },
  {
   "cell_type": "code",
   "execution_count": null,
   "metadata": {},
   "outputs": [],
   "source": []
  }
 ],
 "metadata": {
  "kernelspec": {
   "display_name": "PySpark",
   "language": "",
   "name": "pysparkkernel"
  },
  "language_info": {
   "codemirror_mode": {
    "name": "python",
    "version": 3
   },
   "mimetype": "text/x-python",
   "name": "pyspark",
   "pygments_lexer": "python3"
  }
 },
 "nbformat": 4,
 "nbformat_minor": 4
}
